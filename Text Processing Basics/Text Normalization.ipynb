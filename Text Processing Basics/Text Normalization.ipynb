{
 "cells": [
  {
   "cell_type": "markdown",
   "id": "df28a254",
   "metadata": {},
   "source": [
    "Before getting started with Natural Language Processing it is important to ensure that the sentences are all in a single case either lower case or upper case because a single word like 'Apple' can have 32 variations if different cases are allowed like 'ApPle','APPLE', etc. This unnecassarily increases te computational requirements to process and embed the text data.\n",
    "\n",
    "There is no all purpose text normalization procedure and this should be decided based on the requirement and the data at hand.\n",
    "\n",
    "To avoid increasing feature vector space we do this text normalization.\n",
    "\n",
    "Let's look at basic python functions that can help us do this for a sample text given below - "
   ]
  },
  {
   "cell_type": "code",
   "execution_count": 4,
   "id": "4aface8d",
   "metadata": {},
   "outputs": [
    {
     "name": "stdout",
     "output_type": "stream",
     "text": [
      "\n",
      "                Large Language Models (LLMs), such as OpenAI's GPT-4 and Google's Gemini, have revolutionized the field of Natural Language Processing (NLP). \n",
      "They are capable of understanding and generating human-like text, answering questions, summarizing documents, and even writing code! \n",
      "However, LLMs require vast amounts of data and computational power. \n",
      "Despite their impressive abilities, challenges like bias, hallucination, and explainability remain important areas of research.\n",
      "\n"
     ]
    }
   ],
   "source": [
    "# Sample text about LLMs\n",
    "sample_text = \"\"\"\n",
    "                Large Language Models (LLMs), such as OpenAI's GPT-4 and Google's Gemini, have revolutionized the field of Natural Language Processing (NLP). \n",
    "They are capable of understanding and generating human-like text, answering questions, summarizing documents, and even writing code! \n",
    "However, LLMs require vast amounts of data and computational power. \n",
    "Despite their impressive abilities, challenges like bias, hallucination, and explainability remain important areas of research.\n",
    "\"\"\"\n",
    "\n",
    "print(sample_text)\n"
   ]
  },
  {
   "cell_type": "code",
   "execution_count": 5,
   "id": "323435e7",
   "metadata": {},
   "outputs": [
    {
     "name": "stdout",
     "output_type": "stream",
     "text": [
      "\n",
      "                large language models (llms), such as openai's gpt-4 and google's gemini, have revolutionized the field of natural language processing (nlp). \n",
      "they are capable of understanding and generating human-like text, answering questions, summarizing documents, and even writing code! \n",
      "however, llms require vast amounts of data and computational power. \n",
      "despite their impressive abilities, challenges like bias, hallucination, and explainability remain important areas of research.\n",
      "\n"
     ]
    }
   ],
   "source": [
    "lowercase_text = sample_text.lower()\n",
    "print(lowercase_text)"
   ]
  },
  {
   "cell_type": "code",
   "execution_count": 6,
   "id": "40d4a5e7",
   "metadata": {},
   "outputs": [
    {
     "name": "stdout",
     "output_type": "stream",
     "text": [
      "large language models (llms), such as openai's gpt-4 and google's gemini, have revolutionized the field of natural language processing (nlp). \n",
      "they are capable of understanding and generating human-like text, answering questions, summarizing documents, and even writing code! \n",
      "however, llms require vast amounts of data and computational power. \n",
      "despite their impressive abilities, challenges like bias, hallucination, and explainability remain important areas of research.\n"
     ]
    }
   ],
   "source": [
    "# Removing whitespace\n",
    "whitespace_removed_text = lowercase_text.strip()\n",
    "print(whitespace_removed_text)"
   ]
  },
  {
   "cell_type": "code",
   "execution_count": 7,
   "id": "63e0d36e",
   "metadata": {},
   "outputs": [
    {
     "name": "stdout",
     "output_type": "stream",
     "text": [
      "large language models llms such as openais gpt and googles gemini have revolutionized the field of natural language processing nlp \n",
      "they are capable of understanding and generating humanlike text answering questions summarizing documents and even writing code \n",
      "however llms require vast amounts of data and computational power \n",
      "despite their impressive abilities challenges like bias hallucination and explainability remain important areas of research\n"
     ]
    }
   ],
   "source": [
    "# Removing digits and punctuation if required by the usecase. Using regex to remove digits and punctuation and replace them with a empty string.\n",
    "\n",
    "import re\n",
    "\n",
    "def remove_digits_and_punctuation(text):\n",
    "    # Remove digits\n",
    "    text = re.sub(r'\\d+', '', text)\n",
    "    # Remove all punctuation except words and spaces, tabs, and newlines\n",
    "    text = re.sub(r'[^\\w\\s]', '', text)\n",
    "    return text\n",
    "\n",
    "cleaned_text = remove_digits_and_punctuation(whitespace_removed_text)\n",
    "print(cleaned_text)\n"
   ]
  },
  {
   "cell_type": "code",
   "execution_count": null,
   "id": "d5f12750",
   "metadata": {},
   "outputs": [
    {
     "name": "stdout",
     "output_type": "stream",
     "text": [
      "Stop words: {'himself', \"he'll\", \"wasn't\", 'through', 'his', \"you'd\", \"she'll\", 'out', \"won't\", 'had', 'were', 'are', 'she', 'when', 'during', 'only', \"they're\", 'here', 'at', \"you'll\", 'yours', 'all', 'them', 'won', 'before', 'again', 're', 'isn', 'yourself', 'how', 'because', 'up', 've', 'you', 'haven', 'after', 'ain', 'needn', \"it's\", 'of', 'that', 'mightn', 'your', 'what', \"don't\", 'more', 'should', 'don', 'didn', 'to', 'having', 'does', \"i'd\", 'its', 'same', 'ours', 'hasn', \"should've\", \"weren't\", \"i'm\", 'mustn', 'wasn', \"she'd\", 'about', 'we', 'will', 'did', 'these', 'he', \"you've\", 't', 'both', 'as', \"doesn't\", 'the', 'further', 'an', 'above', \"we'd\", \"we'll\", 'from', 'each', 'below', 'ma', 'my', 'doing', 'd', \"mustn't\", \"she's\", 'for', 'down', \"we're\", 'where', 'few', 'this', 'not', 'am', 'now', 'doesn', \"hasn't\", 'which', \"i've\", 'over', 'whom', 'wouldn', 'by', 'him', 'itself', 'any', 'there', 'other', 'than', 'has', \"they'll\", 'why', 'off', 'on', 'couldn', 'nor', 'our', 'be', 'so', \"aren't\", 'into', \"that'll\", 'i', 'me', 'against', 'such', 'do', 'have', 'themselves', \"mightn't\", \"shouldn't\", 'no', 'while', 'hers', 'it', 'y', \"it'll\", \"they've\", \"hadn't\", 'aren', 'between', 's', 'but', 'some', \"wouldn't\", 'under', \"isn't\", 'or', 'being', 'her', \"we've\", 'and', 'herself', 'then', 'too', 'in', \"you're\", \"couldn't\", 'with', \"shan't\", 'until', \"it'd\", 'm', 'been', 'ourselves', 'theirs', 'their', \"he's\", 'they', 'myself', 'own', \"haven't\", 'very', 'who', 'yourselves', 'if', 'weren', \"he'd\", 'can', 'those', 'll', 'o', 'is', \"they'd\", \"didn't\", 'just', 'shouldn', \"i'll\", 'was', 'a', 'hadn', 'once', \"needn't\", 'most', 'shan'}\n"
     ]
    }
   ],
   "source": [
    "# Next is stop word removal. Stop words are common words that do not add significant meaning to a sentence, such as \"the\", \"is\", \"in\", etc.\n",
    "import nltk\n",
    "\n",
    "from nltk.corpus import stopwords\n",
    "stop_words = set(stopwords.words('english'))\n",
    "print(\"Stop words:\", stop_words)\n",
    "\n",
    "def remove_stop_words(text):\n",
    "    words = text.split"
   ]
  },
  {
   "cell_type": "code",
   "execution_count": null,
   "id": "5c4302dd",
   "metadata": {},
   "outputs": [],
   "source": []
  }
 ],
 "metadata": {
  "kernelspec": {
   "display_name": "dl_class",
   "language": "python",
   "name": "python3"
  },
  "language_info": {
   "codemirror_mode": {
    "name": "ipython",
    "version": 3
   },
   "file_extension": ".py",
   "mimetype": "text/x-python",
   "name": "python",
   "nbconvert_exporter": "python",
   "pygments_lexer": "ipython3",
   "version": "3.12.9"
  }
 },
 "nbformat": 4,
 "nbformat_minor": 5
}
